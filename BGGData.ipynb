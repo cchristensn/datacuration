{
 "cells": [
  {
   "cell_type": "code",
   "execution_count": 1,
   "metadata": {},
   "outputs": [],
   "source": [
    "import pandas as pd\n",
    "import requests\n",
    "from bs4 import BeautifulSoup\n",
    "import re\n",
    "import numpy as np\n",
    "import time"
   ]
  },
  {
   "cell_type": "code",
   "execution_count": 2,
   "metadata": {},
   "outputs": [],
   "source": [
    "gameRanks=pd.read_csv(\"GameRanks.csv\")\n",
    "gameIds= gameRanks['ID']"
   ]
  },
  {
   "cell_type": "code",
   "execution_count": 3,
   "metadata": {},
   "outputs": [],
   "source": [
    "rootpath = 'https://boardgamegeek.com/xmlapi2/'\n",
    "gamepath = 'thing/'\n",
    "playpath = 'plays/'"
   ]
  },
  {
   "cell_type": "code",
   "execution_count": 37,
   "metadata": {},
   "outputs": [],
   "source": [
    "gameparameters = {'id':gameIds[34],\n",
    "              'stats' : 1}\n",
    "\n",
    "playparameters = {\"id\": gameIds[34],\n",
    "                  'type': 'thing',\n",
    "                  'mindate':'2024-02-25'}"
   ]
  },
  {
   "cell_type": "code",
   "execution_count": 23,
   "metadata": {},
   "outputs": [],
   "source": [
    "gamePlays=[]\n",
    "for id in gameIds[0:300]:\n",
    "    playparameters = {\"id\": id, \n",
    "                      'type': 'thing',\n",
    "                      'mindate':'2024-02-25'}\n",
    "    r=requests.get(rootpath+playpath, params= playparameters)\n",
    "    if r.status_code==429:\n",
    "        time.sleep(30)\n",
    "        r=requests.get(rootpath+playpath, params= playparameters)\n",
    "        if r.status_code!=200: \n",
    "            print(f\"Error Code:{r.status_code}, gameId {id}\")\n",
    "            break\n",
    "\n",
    "    soup = BeautifulSoup(r.text, features='xml')\n",
    "    gamePlays += re.findall('total=\"(\\d+)\"', str(soup.find('plays')))\n",
    "    time.sleep(5)"
   ]
  },
  {
   "cell_type": "code",
   "execution_count": null,
   "metadata": {},
   "outputs": [],
   "source": [
    "#took a break, now resuming\n",
    "for id in gameIds[300:399]:\n",
    "    playparameters = {\"id\": id, \n",
    "                      'type': 'thing',\n",
    "                      'mindate':'2024-02-25'}\n",
    "    r=requests.get(rootpath+playpath, params= playparameters)\n",
    "    if r.status_code==429:\n",
    "        time.sleep(30)\n",
    "        r=requests.get(rootpath+playpath, params= playparameters)\n",
    "        if r.status_code!=200: \n",
    "            print(f\"Error Code:{r.status_code}, gameId {id}\")\n",
    "            break\n",
    "\n",
    "    soup = BeautifulSoup(r.text, features='xml')\n",
    "    gamePlays += re.findall('total=\"(\\d+)\"', str(soup.find('plays')))\n",
    "    time.sleep(5)"
   ]
  },
  {
   "cell_type": "code",
   "execution_count": 29,
   "metadata": {},
   "outputs": [],
   "source": [
    "#Lost connection\n",
    "#Restarting\n",
    "for id in gameIds[399:]:\n",
    "    playparameters = {\"id\": id, \n",
    "                      'type': 'thing',\n",
    "                      'mindate':'2024-02-25'}\n",
    "    r=requests.get(rootpath+playpath, params= playparameters)\n",
    "    if r.status_code==429:\n",
    "        time.sleep(30)\n",
    "        r=requests.get(rootpath+playpath, params= playparameters)\n",
    "        if r.status_code!=200: \n",
    "            print(f\"Error Code:{r.status_code}, gameId {id}\")\n",
    "            break\n",
    "\n",
    "    soup = BeautifulSoup(r.text, features='xml')\n",
    "    gamePlays += re.findall('total=\"(\\d+)\"', str(soup.find('plays')))\n",
    "    time.sleep(5)"
   ]
  },
  {
   "cell_type": "code",
   "execution_count": 35,
   "metadata": {},
   "outputs": [],
   "source": [
    "gameRanks['Recorded Plays Last Month']=gamePlays\n",
    "\n",
    "gameRanks=gameRanks[['ID', 'Recorded Plays Last Month', 'Overall Rank', 'Abstract Rank',\n",
    "                     'Customizable Rank', 'Thematic Rank', 'Family Rank', 'Children Rank',\n",
    "                     'Party Rank', 'Strategy Rank', 'War Rank']]"
   ]
  },
  {
   "cell_type": "code",
   "execution_count": 37,
   "metadata": {},
   "outputs": [],
   "source": [
    "#Update CSV so I don't lose everything\n",
    "#gameRanks.to_csv('GameRanks.csv')"
   ]
  },
  {
   "cell_type": "code",
   "execution_count": 47,
   "metadata": {},
   "outputs": [
    {
     "data": {
      "text/plain": [
       "200"
      ]
     },
     "execution_count": 47,
     "metadata": {},
     "output_type": "execute_result"
    }
   ],
   "source": [
    "##Now for Complexity, updated ranks, and wanting/wishing\n",
    "gameparameters={\"id\": \",\".join(map(str, gameIds)),\n",
    "                'stats': 1}\n",
    "\n",
    "r = requests.get(rootpath+gamepath, params=gameparameters)\n",
    "r.status_code"
   ]
  },
  {
   "cell_type": "code",
   "execution_count": 48,
   "metadata": {},
   "outputs": [],
   "source": [
    "soup = BeautifulSoup(r.text, features='xml')"
   ]
  },
  {
   "cell_type": "code",
   "execution_count": 54,
   "metadata": {},
   "outputs": [],
   "source": [
    "names = re.findall('value=\"([^\"]+)\"', str(soup.find_all('name', {'type':'primary'})))"
   ]
  },
  {
   "cell_type": "code",
   "execution_count": null,
   "metadata": {},
   "outputs": [],
   "source": [
    "gameRanks['Name']=names"
   ]
  },
  {
   "cell_type": "code",
   "execution_count": 64,
   "metadata": {},
   "outputs": [],
   "source": [
    "ratings = re.findall('value=\"(\\d+)\"', str(soup.find_all('rank', {'name': 'boardgame'})))"
   ]
  },
  {
   "cell_type": "code",
   "execution_count": 79,
   "metadata": {},
   "outputs": [],
   "source": [
    "gameRanks['Overall Rank']=ratings"
   ]
  },
  {
   "cell_type": "code",
   "execution_count": 106,
   "metadata": {},
   "outputs": [],
   "source": [
    "complexity = re.findall('value=\"(\\d\\.*\\d*)\"', str(soup.find_all('averageweight')))\n",
    "scores = re.findall('value=\"(\\d\\.*\\d*)\"', str(soup.find_all('bayesaverage')))\n",
    "owned = re.findall('value=\"(\\d+)\"', str(soup.find_all('owned')))\n",
    "wants = re.findall('value=\"(\\d+)\"', str(soup.find_all('wanting')))\n",
    "wishes = re.findall('value=\"(\\d+)\"', str(soup.find_all('wishing')))"
   ]
  },
  {
   "cell_type": "code",
   "execution_count": 93,
   "metadata": {},
   "outputs": [],
   "source": [
    "gameRanks['Complexity']=complexity\n",
    "gameRanks['Rating']=scores\n",
    "gameRanks['Owns']=owned\n",
    "gameRanks['Wants']=wants\n",
    "gameRanks['Wishlists']=wishes"
   ]
  },
  {
   "cell_type": "code",
   "execution_count": 118,
   "metadata": {},
   "outputs": [],
   "source": [
    "gameRanks['Plays Last Month']=gameRanks['Recorded Plays Last Month']"
   ]
  },
  {
   "cell_type": "code",
   "execution_count": 119,
   "metadata": {},
   "outputs": [],
   "source": [
    "gameRanks=gameRanks[['Name', 'ID', 'Rating', 'Complexity', 'Overall Rank', 'Plays Last Month',\n",
    "                     'Owns', 'Wants', 'Wishlists', 'Abstract Rank', 'Customizable Rank', 'Thematic Rank',\n",
    "                     'Family Rank', 'Children Rank', 'Party Rank', 'Strategy Rank', 'War Rank']]"
   ]
  },
  {
   "cell_type": "code",
   "execution_count": 120,
   "metadata": {},
   "outputs": [],
   "source": [
    "#Write the Final CSV\n",
    "#gameRanks.to_csv('GameRanks.csv')"
   ]
  }
 ],
 "metadata": {
  "kernelspec": {
   "display_name": "stat386",
   "language": "python",
   "name": "python3"
  },
  "language_info": {
   "codemirror_mode": {
    "name": "ipython",
    "version": 3
   },
   "file_extension": ".py",
   "mimetype": "text/x-python",
   "name": "python",
   "nbconvert_exporter": "python",
   "pygments_lexer": "ipython3",
   "version": "3.11.7"
  }
 },
 "nbformat": 4,
 "nbformat_minor": 2
}
