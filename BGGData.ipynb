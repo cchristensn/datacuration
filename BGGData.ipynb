{
 "cells": [
  {
   "cell_type": "markdown",
   "metadata": {},
   "source": [
    "This file colects data and game metrics for every game scraped from GameRanks.ipynb"
   ]
  },
  {
   "cell_type": "code",
   "execution_count": 1,
   "metadata": {},
   "outputs": [],
   "source": [
    "import pandas as pd\n",
    "import requests\n",
    "from bs4 import BeautifulSoup\n",
    "import re\n",
    "import time"
   ]
  },
  {
   "cell_type": "code",
   "execution_count": 2,
   "metadata": {},
   "outputs": [],
   "source": [
    "gameRanks=pd.read_csv(\"GameRanks.csv\")\n",
    "gameIds= gameRanks['ID']"
   ]
  },
  {
   "cell_type": "markdown",
   "metadata": {},
   "source": [
    "Data Collection uses BoardGameGeek's XML API"
   ]
  },
  {
   "cell_type": "code",
   "execution_count": 3,
   "metadata": {},
   "outputs": [],
   "source": [
    "rootpath = 'https://boardgamegeek.com/xmlapi2/'\n",
    "gamepath = 'thing/'\n",
    "playpath = 'plays/'"
   ]
  },
  {
   "cell_type": "markdown",
   "metadata": {},
   "source": [
    "I loop through every game ID and get play data from Feb 25 to March 25\n",
    "I wait 5 seconds between each call. There is a more efficent way if you call every desired ID at once, but I didn't think of that yet."
   ]
  },
  {
   "cell_type": "code",
   "execution_count": 23,
   "metadata": {},
   "outputs": [],
   "source": [
    "gamePlays=[]\n",
    "for id in gameIds[0:300]:\n",
    "    playparameters = {\"id\": id, \n",
    "                      'type': 'thing',\n",
    "                      'mindate':'2024-02-25'}\n",
    "    r=requests.get(rootpath+playpath, params= playparameters)\n",
    "    if r.status_code==429:\n",
    "        time.sleep(30)\n",
    "        r=requests.get(rootpath+playpath, params= playparameters)\n",
    "        if r.status_code!=200: \n",
    "            print(f\"Error Code:{r.status_code}, gameId {id}\")\n",
    "            break\n",
    "\n",
    "    soup = BeautifulSoup(r.text, features='xml')\n",
    "    gamePlays += re.findall('total=\"(\\d+)\"', str(soup.find('plays')))\n",
    "    time.sleep(5)"
   ]
  },
  {
   "cell_type": "code",
   "execution_count": null,
   "metadata": {},
   "outputs": [],
   "source": [
    "#took a break, now resuming\n",
    "for id in gameIds[300:399]:\n",
    "    playparameters = {\"id\": id, \n",
    "                      'type': 'thing',\n",
    "                      'mindate':'2024-02-25'}\n",
    "    r=requests.get(rootpath+playpath, params= playparameters)\n",
    "    if r.status_code==429:\n",
    "        time.sleep(30)\n",
    "        r=requests.get(rootpath+playpath, params= playparameters)\n",
    "        if r.status_code!=200: \n",
    "            print(f\"Error Code:{r.status_code}, gameId {id}\")\n",
    "            break\n",
    "\n",
    "    soup = BeautifulSoup(r.text, features='xml')\n",
    "    gamePlays += re.findall('total=\"(\\d+)\"', str(soup.find('plays')))\n",
    "    time.sleep(5)"
   ]
  },
  {
   "cell_type": "code",
   "execution_count": 29,
   "metadata": {},
   "outputs": [],
   "source": [
    "#Lost connection\n",
    "#Restarting\n",
    "for id in gameIds[399:]:\n",
    "    playparameters = {\"id\": id, \n",
    "                      'type': 'thing',\n",
    "                      'mindate':'2024-02-25'}\n",
    "    r=requests.get(rootpath+playpath, params= playparameters)\n",
    "    if r.status_code==429:\n",
    "        time.sleep(30)\n",
    "        r=requests.get(rootpath+playpath, params= playparameters)\n",
    "        if r.status_code!=200: \n",
    "            print(f\"Error Code:{r.status_code}, gameId {id}\")\n",
    "            break\n",
    "\n",
    "    soup = BeautifulSoup(r.text, features='xml')\n",
    "    gamePlays += re.findall('total=\"(\\d+)\"', str(soup.find('plays')))\n",
    "    time.sleep(5)"
   ]
  },
  {
   "cell_type": "markdown",
   "metadata": {},
   "source": [
    "I add the play data to the dataframe and update the csv to save the data if my environment restarts"
   ]
  },
  {
   "cell_type": "code",
   "execution_count": 35,
   "metadata": {},
   "outputs": [],
   "source": [
    "gameRanks['Recorded Plays Last Month']=gamePlays\n",
    "\n",
    "gameRanks=gameRanks[['ID', 'Recorded Plays Last Month', 'Overall Rank', 'Abstract Rank',\n",
    "                     'Customizable Rank', 'Thematic Rank', 'Family Rank', 'Children Rank',\n",
    "                     'Party Rank', 'Strategy Rank', 'War Rank']]"
   ]
  },
  {
   "cell_type": "code",
   "execution_count": 37,
   "metadata": {},
   "outputs": [],
   "source": [
    "#Update CSV so I don't lose everything\n",
    "#gameRanks.to_csv('GameRanks.csv')"
   ]
  },
  {
   "cell_type": "markdown",
   "metadata": {},
   "source": [
    "I now call the api through a different path to get statistics on the game. This time, I call every game at once using a comma seperated string."
   ]
  },
  {
   "cell_type": "code",
   "execution_count": 47,
   "metadata": {},
   "outputs": [
    {
     "data": {
      "text/plain": [
       "200"
      ]
     },
     "execution_count": 47,
     "metadata": {},
     "output_type": "execute_result"
    }
   ],
   "source": [
    "##Now for Complexity, updated ranks, and wanting/wishing\n",
    "gameparameters={\"id\": \",\".join(map(str, gameIds)),\n",
    "                'stats': 1}\n",
    "\n",
    "r = requests.get(rootpath+gamepath, params=gameparameters)\n",
    "r.status_code"
   ]
  },
  {
   "cell_type": "code",
   "execution_count": 48,
   "metadata": {},
   "outputs": [],
   "source": [
    "soup = BeautifulSoup(r.text, features='xml')"
   ]
  },
  {
   "cell_type": "markdown",
   "metadata": {},
   "source": [
    "I use regex and BeautifulSoup to get the desired information"
   ]
  },
  {
   "cell_type": "code",
   "execution_count": 54,
   "metadata": {},
   "outputs": [],
   "source": [
    "names = re.findall('value=\"([^\"]+)\"', str(soup.find_all('name', {'type':'primary'})))"
   ]
  },
  {
   "cell_type": "code",
   "execution_count": null,
   "metadata": {},
   "outputs": [],
   "source": [
    "gameRanks['Name']=names"
   ]
  },
  {
   "cell_type": "code",
   "execution_count": 64,
   "metadata": {},
   "outputs": [],
   "source": [
    "ratings = re.findall('value=\"(\\d+)\"', str(soup.find_all('rank', {'name': 'boardgame'})))"
   ]
  },
  {
   "cell_type": "code",
   "execution_count": 79,
   "metadata": {},
   "outputs": [],
   "source": [
    "gameRanks['Overall Rank']=ratings"
   ]
  },
  {
   "cell_type": "code",
   "execution_count": 106,
   "metadata": {},
   "outputs": [],
   "source": [
    "complexity = re.findall('value=\"(\\d\\.*\\d*)\"', str(soup.find_all('averageweight')))\n",
    "scores = re.findall('value=\"(\\d\\.*\\d*)\"', str(soup.find_all('bayesaverage')))\n",
    "owned = re.findall('value=\"(\\d+)\"', str(soup.find_all('owned')))\n",
    "wants = re.findall('value=\"(\\d+)\"', str(soup.find_all('wanting')))\n",
    "wishes = re.findall('value=\"(\\d+)\"', str(soup.find_all('wishing')))"
   ]
  },
  {
   "cell_type": "code",
   "execution_count": 126,
   "metadata": {},
   "outputs": [],
   "source": [
    "year = re.findall('value=\"(-?\\d*)\"', str(soup.find_all('yearpublished')))"
   ]
  },
  {
   "cell_type": "code",
   "execution_count": 128,
   "metadata": {},
   "outputs": [
    {
     "name": "stderr",
     "output_type": "stream",
     "text": [
      "C:\\Users\\caleb\\AppData\\Local\\Temp\\ipykernel_29712\\4278219437.py:1: SettingWithCopyWarning: \n",
      "A value is trying to be set on a copy of a slice from a DataFrame.\n",
      "Try using .loc[row_indexer,col_indexer] = value instead\n",
      "\n",
      "See the caveats in the documentation: https://pandas.pydata.org/pandas-docs/stable/user_guide/indexing.html#returning-a-view-versus-a-copy\n",
      "  gameRanks['Year']=year\n"
     ]
    }
   ],
   "source": [
    "gameRanks['Year']=year"
   ]
  },
  {
   "cell_type": "code",
   "execution_count": 129,
   "metadata": {},
   "outputs": [
    {
     "data": {
      "text/html": [
       "<div>\n",
       "<style scoped>\n",
       "    .dataframe tbody tr th:only-of-type {\n",
       "        vertical-align: middle;\n",
       "    }\n",
       "\n",
       "    .dataframe tbody tr th {\n",
       "        vertical-align: top;\n",
       "    }\n",
       "\n",
       "    .dataframe thead th {\n",
       "        text-align: right;\n",
       "    }\n",
       "</style>\n",
       "<table border=\"1\" class=\"dataframe\">\n",
       "  <thead>\n",
       "    <tr style=\"text-align: right;\">\n",
       "      <th></th>\n",
       "      <th>Name</th>\n",
       "      <th>ID</th>\n",
       "      <th>Rating</th>\n",
       "      <th>Complexity</th>\n",
       "      <th>Overall Rank</th>\n",
       "      <th>Plays Last Month</th>\n",
       "      <th>Owns</th>\n",
       "      <th>Wants</th>\n",
       "      <th>Wishlists</th>\n",
       "      <th>Abstract Rank</th>\n",
       "      <th>Customizable Rank</th>\n",
       "      <th>Thematic Rank</th>\n",
       "      <th>Family Rank</th>\n",
       "      <th>Children Rank</th>\n",
       "      <th>Party Rank</th>\n",
       "      <th>Strategy Rank</th>\n",
       "      <th>War Rank</th>\n",
       "      <th>Year</th>\n",
       "    </tr>\n",
       "  </thead>\n",
       "  <tbody>\n",
       "    <tr>\n",
       "      <th>0</th>\n",
       "      <td>Brass: Birmingham</td>\n",
       "      <td>224517</td>\n",
       "      <td>8.41705</td>\n",
       "      <td>3.8836</td>\n",
       "      <td>1</td>\n",
       "      <td>1703</td>\n",
       "      <td>61495</td>\n",
       "      <td>1735</td>\n",
       "      <td>17615</td>\n",
       "      <td>NaN</td>\n",
       "      <td>NaN</td>\n",
       "      <td>NaN</td>\n",
       "      <td>NaN</td>\n",
       "      <td>NaN</td>\n",
       "      <td>NaN</td>\n",
       "      <td>1.0</td>\n",
       "      <td>NaN</td>\n",
       "      <td>2018</td>\n",
       "    </tr>\n",
       "    <tr>\n",
       "      <th>1</th>\n",
       "      <td>Pandemic Legacy: Season 1</td>\n",
       "      <td>161936</td>\n",
       "      <td>8.38317</td>\n",
       "      <td>2.8317</td>\n",
       "      <td>2</td>\n",
       "      <td>823</td>\n",
       "      <td>82267</td>\n",
       "      <td>813</td>\n",
       "      <td>13567</td>\n",
       "      <td>NaN</td>\n",
       "      <td>NaN</td>\n",
       "      <td>1.0</td>\n",
       "      <td>NaN</td>\n",
       "      <td>NaN</td>\n",
       "      <td>NaN</td>\n",
       "      <td>2.0</td>\n",
       "      <td>NaN</td>\n",
       "      <td>2015</td>\n",
       "    </tr>\n",
       "    <tr>\n",
       "      <th>2</th>\n",
       "      <td>Gloomhaven</td>\n",
       "      <td>174430</td>\n",
       "      <td>8.36184</td>\n",
       "      <td>3.9072</td>\n",
       "      <td>3</td>\n",
       "      <td>1934</td>\n",
       "      <td>96001</td>\n",
       "      <td>1193</td>\n",
       "      <td>20184</td>\n",
       "      <td>NaN</td>\n",
       "      <td>NaN</td>\n",
       "      <td>2.0</td>\n",
       "      <td>NaN</td>\n",
       "      <td>NaN</td>\n",
       "      <td>NaN</td>\n",
       "      <td>4.0</td>\n",
       "      <td>NaN</td>\n",
       "      <td>2017</td>\n",
       "    </tr>\n",
       "    <tr>\n",
       "      <th>3</th>\n",
       "      <td>Ark Nova</td>\n",
       "      <td>342942</td>\n",
       "      <td>8.33346</td>\n",
       "      <td>3.7493</td>\n",
       "      <td>4</td>\n",
       "      <td>12463</td>\n",
       "      <td>60548</td>\n",
       "      <td>1044</td>\n",
       "      <td>12923</td>\n",
       "      <td>NaN</td>\n",
       "      <td>NaN</td>\n",
       "      <td>NaN</td>\n",
       "      <td>NaN</td>\n",
       "      <td>NaN</td>\n",
       "      <td>NaN</td>\n",
       "      <td>3.0</td>\n",
       "      <td>NaN</td>\n",
       "      <td>2021</td>\n",
       "    </tr>\n",
       "    <tr>\n",
       "      <th>4</th>\n",
       "      <td>Twilight Imperium: Fourth Edition</td>\n",
       "      <td>233078</td>\n",
       "      <td>8.24315</td>\n",
       "      <td>4.3171</td>\n",
       "      <td>5</td>\n",
       "      <td>485</td>\n",
       "      <td>28412</td>\n",
       "      <td>1035</td>\n",
       "      <td>11288</td>\n",
       "      <td>NaN</td>\n",
       "      <td>NaN</td>\n",
       "      <td>3.0</td>\n",
       "      <td>NaN</td>\n",
       "      <td>NaN</td>\n",
       "      <td>NaN</td>\n",
       "      <td>5.0</td>\n",
       "      <td>NaN</td>\n",
       "      <td>2017</td>\n",
       "    </tr>\n",
       "    <tr>\n",
       "      <th>...</th>\n",
       "      <td>...</td>\n",
       "      <td>...</td>\n",
       "      <td>...</td>\n",
       "      <td>...</td>\n",
       "      <td>...</td>\n",
       "      <td>...</td>\n",
       "      <td>...</td>\n",
       "      <td>...</td>\n",
       "      <td>...</td>\n",
       "      <td>...</td>\n",
       "      <td>...</td>\n",
       "      <td>...</td>\n",
       "      <td>...</td>\n",
       "      <td>...</td>\n",
       "      <td>...</td>\n",
       "      <td>...</td>\n",
       "      <td>...</td>\n",
       "      <td>...</td>\n",
       "    </tr>\n",
       "    <tr>\n",
       "      <th>746</th>\n",
       "      <td>The Devil's Cauldron: The Battles for Arnhem a...</td>\n",
       "      <td>15369</td>\n",
       "      <td>5.92187</td>\n",
       "      <td>3.8372</td>\n",
       "      <td>3350</td>\n",
       "      <td>3</td>\n",
       "      <td>910</td>\n",
       "      <td>140</td>\n",
       "      <td>447</td>\n",
       "      <td>NaN</td>\n",
       "      <td>NaN</td>\n",
       "      <td>NaN</td>\n",
       "      <td>NaN</td>\n",
       "      <td>NaN</td>\n",
       "      <td>NaN</td>\n",
       "      <td>NaN</td>\n",
       "      <td>96.0</td>\n",
       "      <td>2008</td>\n",
       "    </tr>\n",
       "    <tr>\n",
       "      <th>747</th>\n",
       "      <td>Successors (Fourth Edition)</td>\n",
       "      <td>325348</td>\n",
       "      <td>6.09386</td>\n",
       "      <td>4.0652</td>\n",
       "      <td>2432</td>\n",
       "      <td>21</td>\n",
       "      <td>2278</td>\n",
       "      <td>91</td>\n",
       "      <td>698</td>\n",
       "      <td>NaN</td>\n",
       "      <td>NaN</td>\n",
       "      <td>NaN</td>\n",
       "      <td>NaN</td>\n",
       "      <td>NaN</td>\n",
       "      <td>NaN</td>\n",
       "      <td>NaN</td>\n",
       "      <td>97.0</td>\n",
       "      <td>2022</td>\n",
       "    </tr>\n",
       "    <tr>\n",
       "      <th>748</th>\n",
       "      <td>Polis</td>\n",
       "      <td>303551</td>\n",
       "      <td>6.20844</td>\n",
       "      <td>3.7869</td>\n",
       "      <td>1978</td>\n",
       "      <td>17</td>\n",
       "      <td>1894</td>\n",
       "      <td>101</td>\n",
       "      <td>764</td>\n",
       "      <td>NaN</td>\n",
       "      <td>NaN</td>\n",
       "      <td>NaN</td>\n",
       "      <td>NaN</td>\n",
       "      <td>NaN</td>\n",
       "      <td>NaN</td>\n",
       "      <td>NaN</td>\n",
       "      <td>98.0</td>\n",
       "      <td>2020</td>\n",
       "    </tr>\n",
       "    <tr>\n",
       "      <th>749</th>\n",
       "      <td>Roads to Gettysburg II: Lee Strikes North</td>\n",
       "      <td>215565</td>\n",
       "      <td>5.85047</td>\n",
       "      <td>3.6667</td>\n",
       "      <td>3874</td>\n",
       "      <td>8</td>\n",
       "      <td>919</td>\n",
       "      <td>68</td>\n",
       "      <td>188</td>\n",
       "      <td>NaN</td>\n",
       "      <td>NaN</td>\n",
       "      <td>NaN</td>\n",
       "      <td>NaN</td>\n",
       "      <td>NaN</td>\n",
       "      <td>NaN</td>\n",
       "      <td>NaN</td>\n",
       "      <td>99.0</td>\n",
       "      <td>2018</td>\n",
       "    </tr>\n",
       "    <tr>\n",
       "      <th>750</th>\n",
       "      <td>D-Day at Tarawa</td>\n",
       "      <td>67600</td>\n",
       "      <td>5.97233</td>\n",
       "      <td>3.7255</td>\n",
       "      <td>3016</td>\n",
       "      <td>2</td>\n",
       "      <td>1789</td>\n",
       "      <td>111</td>\n",
       "      <td>459</td>\n",
       "      <td>NaN</td>\n",
       "      <td>NaN</td>\n",
       "      <td>NaN</td>\n",
       "      <td>NaN</td>\n",
       "      <td>NaN</td>\n",
       "      <td>NaN</td>\n",
       "      <td>NaN</td>\n",
       "      <td>100.0</td>\n",
       "      <td>2014</td>\n",
       "    </tr>\n",
       "  </tbody>\n",
       "</table>\n",
       "<p>751 rows × 18 columns</p>\n",
       "</div>"
      ],
      "text/plain": [
       "                                                  Name      ID   Rating  \\\n",
       "0                                    Brass: Birmingham  224517  8.41705   \n",
       "1                            Pandemic Legacy: Season 1  161936  8.38317   \n",
       "2                                           Gloomhaven  174430  8.36184   \n",
       "3                                             Ark Nova  342942  8.33346   \n",
       "4                    Twilight Imperium: Fourth Edition  233078  8.24315   \n",
       "..                                                 ...     ...      ...   \n",
       "746  The Devil's Cauldron: The Battles for Arnhem a...   15369  5.92187   \n",
       "747                        Successors (Fourth Edition)  325348  6.09386   \n",
       "748                                              Polis  303551  6.20844   \n",
       "749          Roads to Gettysburg II: Lee Strikes North  215565  5.85047   \n",
       "750                                    D-Day at Tarawa   67600  5.97233   \n",
       "\n",
       "    Complexity Overall Rank Plays Last Month   Owns Wants Wishlists  \\\n",
       "0       3.8836            1             1703  61495  1735     17615   \n",
       "1       2.8317            2              823  82267   813     13567   \n",
       "2       3.9072            3             1934  96001  1193     20184   \n",
       "3       3.7493            4            12463  60548  1044     12923   \n",
       "4       4.3171            5              485  28412  1035     11288   \n",
       "..         ...          ...              ...    ...   ...       ...   \n",
       "746     3.8372         3350                3    910   140       447   \n",
       "747     4.0652         2432               21   2278    91       698   \n",
       "748     3.7869         1978               17   1894   101       764   \n",
       "749     3.6667         3874                8    919    68       188   \n",
       "750     3.7255         3016                2   1789   111       459   \n",
       "\n",
       "     Abstract Rank  Customizable Rank  Thematic Rank  Family Rank  \\\n",
       "0              NaN                NaN            NaN          NaN   \n",
       "1              NaN                NaN            1.0          NaN   \n",
       "2              NaN                NaN            2.0          NaN   \n",
       "3              NaN                NaN            NaN          NaN   \n",
       "4              NaN                NaN            3.0          NaN   \n",
       "..             ...                ...            ...          ...   \n",
       "746            NaN                NaN            NaN          NaN   \n",
       "747            NaN                NaN            NaN          NaN   \n",
       "748            NaN                NaN            NaN          NaN   \n",
       "749            NaN                NaN            NaN          NaN   \n",
       "750            NaN                NaN            NaN          NaN   \n",
       "\n",
       "     Children Rank  Party Rank  Strategy Rank  War Rank  Year  \n",
       "0              NaN         NaN            1.0       NaN  2018  \n",
       "1              NaN         NaN            2.0       NaN  2015  \n",
       "2              NaN         NaN            4.0       NaN  2017  \n",
       "3              NaN         NaN            3.0       NaN  2021  \n",
       "4              NaN         NaN            5.0       NaN  2017  \n",
       "..             ...         ...            ...       ...   ...  \n",
       "746            NaN         NaN            NaN      96.0  2008  \n",
       "747            NaN         NaN            NaN      97.0  2022  \n",
       "748            NaN         NaN            NaN      98.0  2020  \n",
       "749            NaN         NaN            NaN      99.0  2018  \n",
       "750            NaN         NaN            NaN     100.0  2014  \n",
       "\n",
       "[751 rows x 18 columns]"
      ]
     },
     "execution_count": 129,
     "metadata": {},
     "output_type": "execute_result"
    }
   ],
   "source": [
    "gameRanks"
   ]
  },
  {
   "cell_type": "code",
   "execution_count": 93,
   "metadata": {},
   "outputs": [],
   "source": [
    "gameRanks['Complexity']=complexity\n",
    "gameRanks['Rating']=scores\n",
    "gameRanks['Owns']=owned\n",
    "gameRanks['Wants']=wants\n",
    "gameRanks['Wishlists']=wishes"
   ]
  },
  {
   "cell_type": "markdown",
   "metadata": {},
   "source": [
    "I rename the Plays column and reorder all columns in the data frame to write the final CSV."
   ]
  },
  {
   "cell_type": "code",
   "execution_count": 118,
   "metadata": {},
   "outputs": [],
   "source": [
    "gameRanks['Plays Last Month']=gameRanks['Recorded Plays Last Month']"
   ]
  },
  {
   "cell_type": "code",
   "execution_count": 130,
   "metadata": {},
   "outputs": [],
   "source": [
    "gameRanks=gameRanks[['Name','Year', 'ID', 'Rating', 'Complexity', 'Overall Rank', 'Plays Last Month',\n",
    "                     'Owns', 'Wants', 'Wishlists', 'Abstract Rank', 'Customizable Rank', 'Thematic Rank',\n",
    "                     'Family Rank', 'Children Rank', 'Party Rank', 'Strategy Rank', 'War Rank']]"
   ]
  },
  {
   "cell_type": "code",
   "execution_count": 131,
   "metadata": {},
   "outputs": [],
   "source": [
    "#Write the Final CSV\n",
    "#gameRanks.to_csv('GameRanks.csv')"
   ]
  }
 ],
 "metadata": {
  "kernelspec": {
   "display_name": "stat386",
   "language": "python",
   "name": "python3"
  },
  "language_info": {
   "codemirror_mode": {
    "name": "ipython",
    "version": 3
   },
   "file_extension": ".py",
   "mimetype": "text/x-python",
   "name": "python",
   "nbconvert_exporter": "python",
   "pygments_lexer": "ipython3",
   "version": "3.11.7"
  }
 },
 "nbformat": 4,
 "nbformat_minor": 2
}
