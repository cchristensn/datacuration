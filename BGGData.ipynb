{
 "cells": [
  {
   "cell_type": "code",
   "execution_count": 52,
   "metadata": {},
   "outputs": [],
   "source": [
    "import pandas as pd\n",
    "import requests\n",
    "from bs4 import BeautifulSoup\n",
    "import re\n",
    "import numpy as np"
   ]
  },
  {
   "cell_type": "code",
   "execution_count": 5,
   "metadata": {},
   "outputs": [],
   "source": [
    "gameRanks=pd.read_csv(\"GameRanks.csv\")\n",
    "gameIds= gameRanks['ID']"
   ]
  },
  {
   "cell_type": "code",
   "execution_count": 30,
   "metadata": {},
   "outputs": [],
   "source": [
    "rootpath = 'https://boardgamegeek.com/xmlapi2/'\n",
    "gamepath = 'thing/'\n",
    "playpath = 'plays/'"
   ]
  },
  {
   "cell_type": "code",
   "execution_count": 37,
   "metadata": {},
   "outputs": [],
   "source": [
    "gameparameters = {'id':gameIds[34],\n",
    "              'stats' : 1}\n",
    "\n",
    "playparameters = {\"id\": gameIds[34],\n",
    "                  'type': 'thing',\n",
    "                  'mindate':'2024-02-25'}"
   ]
  },
  {
   "cell_type": "code",
   "execution_count": 57,
   "metadata": {},
   "outputs": [],
   "source": [
    "unrankedgames = gameRanks[gameRanks['Overall Rank'].isna()]['ID']"
   ]
  },
  {
   "cell_type": "code",
   "execution_count": 58,
   "metadata": {},
   "outputs": [
    {
     "data": {
      "text/plain": [
       "100      7854\n",
       "101    163412\n",
       "102    287954\n",
       "103    249259\n",
       "104     31999\n",
       "        ...  \n",
       "746     15369\n",
       "747    325348\n",
       "748    303551\n",
       "749    215565\n",
       "750     67600\n",
       "Name: ID, Length: 651, dtype: int64"
      ]
     },
     "execution_count": 58,
     "metadata": {},
     "output_type": "execute_result"
    }
   ],
   "source": [
    "unrankedgames"
   ]
  }
 ],
 "metadata": {
  "kernelspec": {
   "display_name": "stat386",
   "language": "python",
   "name": "python3"
  },
  "language_info": {
   "codemirror_mode": {
    "name": "ipython",
    "version": 3
   },
   "file_extension": ".py",
   "mimetype": "text/x-python",
   "name": "python",
   "nbconvert_exporter": "python",
   "pygments_lexer": "ipython3",
   "version": "3.11.7"
  }
 },
 "nbformat": 4,
 "nbformat_minor": 2
}
